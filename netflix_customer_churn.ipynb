{
 "cells": [
  {
   "cell_type": "markdown",
   "id": "effc1bc6-e312-4914-881d-fce514f83c64",
   "metadata": {},
   "source": [
    "## Imported necessary libraries and loaded data using pandas in a dataframe"
   ]
  },
  {
   "cell_type": "code",
   "execution_count": 1,
   "id": "95bafaeb-fb7a-43e1-ab50-3211b14125d3",
   "metadata": {},
   "outputs": [
    {
     "data": {
      "text/html": [
       "<div>\n",
       "<style scoped>\n",
       "    .dataframe tbody tr th:only-of-type {\n",
       "        vertical-align: middle;\n",
       "    }\n",
       "\n",
       "    .dataframe tbody tr th {\n",
       "        vertical-align: top;\n",
       "    }\n",
       "\n",
       "    .dataframe thead th {\n",
       "        text-align: right;\n",
       "    }\n",
       "</style>\n",
       "<table border=\"1\" class=\"dataframe\">\n",
       "  <thead>\n",
       "    <tr style=\"text-align: right;\">\n",
       "      <th></th>\n",
       "      <th>customer_id</th>\n",
       "      <th>age</th>\n",
       "      <th>gender</th>\n",
       "      <th>subscription_type</th>\n",
       "      <th>watch_hours</th>\n",
       "      <th>last_login_days</th>\n",
       "      <th>region</th>\n",
       "      <th>device</th>\n",
       "      <th>monthly_fee</th>\n",
       "      <th>churned</th>\n",
       "      <th>payment_method</th>\n",
       "      <th>number_of_profiles</th>\n",
       "      <th>avg_watch_time_per_day</th>\n",
       "      <th>favorite_genre</th>\n",
       "    </tr>\n",
       "  </thead>\n",
       "  <tbody>\n",
       "    <tr>\n",
       "      <th>0</th>\n",
       "      <td>a9b75100-82a8-427a-a208-72f24052884a</td>\n",
       "      <td>51</td>\n",
       "      <td>Other</td>\n",
       "      <td>Basic</td>\n",
       "      <td>14.73</td>\n",
       "      <td>29</td>\n",
       "      <td>Africa</td>\n",
       "      <td>TV</td>\n",
       "      <td>8.99</td>\n",
       "      <td>1</td>\n",
       "      <td>Gift Card</td>\n",
       "      <td>1</td>\n",
       "      <td>0.49</td>\n",
       "      <td>Action</td>\n",
       "    </tr>\n",
       "    <tr>\n",
       "      <th>1</th>\n",
       "      <td>49a5dfd9-7e69-4022-a6ad-0a1b9767fb5b</td>\n",
       "      <td>47</td>\n",
       "      <td>Other</td>\n",
       "      <td>Standard</td>\n",
       "      <td>0.70</td>\n",
       "      <td>19</td>\n",
       "      <td>Europe</td>\n",
       "      <td>Mobile</td>\n",
       "      <td>13.99</td>\n",
       "      <td>1</td>\n",
       "      <td>Gift Card</td>\n",
       "      <td>5</td>\n",
       "      <td>0.03</td>\n",
       "      <td>Sci-Fi</td>\n",
       "    </tr>\n",
       "    <tr>\n",
       "      <th>2</th>\n",
       "      <td>4d71f6ce-fca9-4ff7-8afa-197ac24de14b</td>\n",
       "      <td>27</td>\n",
       "      <td>Female</td>\n",
       "      <td>Standard</td>\n",
       "      <td>16.32</td>\n",
       "      <td>10</td>\n",
       "      <td>Asia</td>\n",
       "      <td>TV</td>\n",
       "      <td>13.99</td>\n",
       "      <td>0</td>\n",
       "      <td>Crypto</td>\n",
       "      <td>2</td>\n",
       "      <td>1.48</td>\n",
       "      <td>Drama</td>\n",
       "    </tr>\n",
       "    <tr>\n",
       "      <th>3</th>\n",
       "      <td>d3c72c38-631b-4f9e-8a0e-de103cad1a7d</td>\n",
       "      <td>53</td>\n",
       "      <td>Other</td>\n",
       "      <td>Premium</td>\n",
       "      <td>4.51</td>\n",
       "      <td>12</td>\n",
       "      <td>Oceania</td>\n",
       "      <td>TV</td>\n",
       "      <td>17.99</td>\n",
       "      <td>1</td>\n",
       "      <td>Crypto</td>\n",
       "      <td>2</td>\n",
       "      <td>0.35</td>\n",
       "      <td>Horror</td>\n",
       "    </tr>\n",
       "    <tr>\n",
       "      <th>4</th>\n",
       "      <td>4e265c34-103a-4dbb-9553-76c9aa47e946</td>\n",
       "      <td>56</td>\n",
       "      <td>Other</td>\n",
       "      <td>Standard</td>\n",
       "      <td>1.89</td>\n",
       "      <td>13</td>\n",
       "      <td>Africa</td>\n",
       "      <td>Mobile</td>\n",
       "      <td>13.99</td>\n",
       "      <td>1</td>\n",
       "      <td>Crypto</td>\n",
       "      <td>2</td>\n",
       "      <td>0.13</td>\n",
       "      <td>Action</td>\n",
       "    </tr>\n",
       "    <tr>\n",
       "      <th>...</th>\n",
       "      <td>...</td>\n",
       "      <td>...</td>\n",
       "      <td>...</td>\n",
       "      <td>...</td>\n",
       "      <td>...</td>\n",
       "      <td>...</td>\n",
       "      <td>...</td>\n",
       "      <td>...</td>\n",
       "      <td>...</td>\n",
       "      <td>...</td>\n",
       "      <td>...</td>\n",
       "      <td>...</td>\n",
       "      <td>...</td>\n",
       "      <td>...</td>\n",
       "    </tr>\n",
       "    <tr>\n",
       "      <th>4995</th>\n",
       "      <td>44f3ba44-b95d-4e50-a786-bac4d06f4a43</td>\n",
       "      <td>19</td>\n",
       "      <td>Female</td>\n",
       "      <td>Basic</td>\n",
       "      <td>49.17</td>\n",
       "      <td>11</td>\n",
       "      <td>Europe</td>\n",
       "      <td>Desktop</td>\n",
       "      <td>8.99</td>\n",
       "      <td>0</td>\n",
       "      <td>Credit Card</td>\n",
       "      <td>4</td>\n",
       "      <td>4.10</td>\n",
       "      <td>Drama</td>\n",
       "    </tr>\n",
       "    <tr>\n",
       "      <th>4996</th>\n",
       "      <td>18779bcb-ba2b-41da-b751-e70b812061ec</td>\n",
       "      <td>67</td>\n",
       "      <td>Female</td>\n",
       "      <td>Basic</td>\n",
       "      <td>9.24</td>\n",
       "      <td>2</td>\n",
       "      <td>North America</td>\n",
       "      <td>Desktop</td>\n",
       "      <td>8.99</td>\n",
       "      <td>0</td>\n",
       "      <td>PayPal</td>\n",
       "      <td>3</td>\n",
       "      <td>3.08</td>\n",
       "      <td>Documentary</td>\n",
       "    </tr>\n",
       "    <tr>\n",
       "      <th>4997</th>\n",
       "      <td>3f32e8c5-615b-4a3b-a864-db2688f7834f</td>\n",
       "      <td>66</td>\n",
       "      <td>Male</td>\n",
       "      <td>Standard</td>\n",
       "      <td>16.55</td>\n",
       "      <td>49</td>\n",
       "      <td>South America</td>\n",
       "      <td>Desktop</td>\n",
       "      <td>13.99</td>\n",
       "      <td>1</td>\n",
       "      <td>Debit Card</td>\n",
       "      <td>2</td>\n",
       "      <td>0.33</td>\n",
       "      <td>Action</td>\n",
       "    </tr>\n",
       "    <tr>\n",
       "      <th>4998</th>\n",
       "      <td>7b0ad82d-6571-430e-90f4-906259e0e89c</td>\n",
       "      <td>59</td>\n",
       "      <td>Female</td>\n",
       "      <td>Basic</td>\n",
       "      <td>9.12</td>\n",
       "      <td>3</td>\n",
       "      <td>Europe</td>\n",
       "      <td>Laptop</td>\n",
       "      <td>8.99</td>\n",
       "      <td>0</td>\n",
       "      <td>Credit Card</td>\n",
       "      <td>4</td>\n",
       "      <td>2.28</td>\n",
       "      <td>Sci-Fi</td>\n",
       "    </tr>\n",
       "    <tr>\n",
       "      <th>4999</th>\n",
       "      <td>82aeef39-ddb0-40ad-bae1-5c436e0cf042</td>\n",
       "      <td>57</td>\n",
       "      <td>Male</td>\n",
       "      <td>Basic</td>\n",
       "      <td>1.62</td>\n",
       "      <td>17</td>\n",
       "      <td>Africa</td>\n",
       "      <td>Mobile</td>\n",
       "      <td>8.99</td>\n",
       "      <td>1</td>\n",
       "      <td>Crypto</td>\n",
       "      <td>2</td>\n",
       "      <td>0.09</td>\n",
       "      <td>Action</td>\n",
       "    </tr>\n",
       "  </tbody>\n",
       "</table>\n",
       "<p>5000 rows × 14 columns</p>\n",
       "</div>"
      ],
      "text/plain": [
       "                               customer_id  age  gender subscription_type  \\\n",
       "0     a9b75100-82a8-427a-a208-72f24052884a   51   Other             Basic   \n",
       "1     49a5dfd9-7e69-4022-a6ad-0a1b9767fb5b   47   Other          Standard   \n",
       "2     4d71f6ce-fca9-4ff7-8afa-197ac24de14b   27  Female          Standard   \n",
       "3     d3c72c38-631b-4f9e-8a0e-de103cad1a7d   53   Other           Premium   \n",
       "4     4e265c34-103a-4dbb-9553-76c9aa47e946   56   Other          Standard   \n",
       "...                                    ...  ...     ...               ...   \n",
       "4995  44f3ba44-b95d-4e50-a786-bac4d06f4a43   19  Female             Basic   \n",
       "4996  18779bcb-ba2b-41da-b751-e70b812061ec   67  Female             Basic   \n",
       "4997  3f32e8c5-615b-4a3b-a864-db2688f7834f   66    Male          Standard   \n",
       "4998  7b0ad82d-6571-430e-90f4-906259e0e89c   59  Female             Basic   \n",
       "4999  82aeef39-ddb0-40ad-bae1-5c436e0cf042   57    Male             Basic   \n",
       "\n",
       "      watch_hours  last_login_days         region   device  monthly_fee  \\\n",
       "0           14.73               29         Africa       TV         8.99   \n",
       "1            0.70               19         Europe   Mobile        13.99   \n",
       "2           16.32               10           Asia       TV        13.99   \n",
       "3            4.51               12        Oceania       TV        17.99   \n",
       "4            1.89               13         Africa   Mobile        13.99   \n",
       "...           ...              ...            ...      ...          ...   \n",
       "4995        49.17               11         Europe  Desktop         8.99   \n",
       "4996         9.24                2  North America  Desktop         8.99   \n",
       "4997        16.55               49  South America  Desktop        13.99   \n",
       "4998         9.12                3         Europe   Laptop         8.99   \n",
       "4999         1.62               17         Africa   Mobile         8.99   \n",
       "\n",
       "      churned payment_method  number_of_profiles  avg_watch_time_per_day  \\\n",
       "0           1      Gift Card                   1                    0.49   \n",
       "1           1      Gift Card                   5                    0.03   \n",
       "2           0         Crypto                   2                    1.48   \n",
       "3           1         Crypto                   2                    0.35   \n",
       "4           1         Crypto                   2                    0.13   \n",
       "...       ...            ...                 ...                     ...   \n",
       "4995        0    Credit Card                   4                    4.10   \n",
       "4996        0         PayPal                   3                    3.08   \n",
       "4997        1     Debit Card                   2                    0.33   \n",
       "4998        0    Credit Card                   4                    2.28   \n",
       "4999        1         Crypto                   2                    0.09   \n",
       "\n",
       "     favorite_genre  \n",
       "0            Action  \n",
       "1            Sci-Fi  \n",
       "2             Drama  \n",
       "3            Horror  \n",
       "4            Action  \n",
       "...             ...  \n",
       "4995          Drama  \n",
       "4996    Documentary  \n",
       "4997         Action  \n",
       "4998         Sci-Fi  \n",
       "4999         Action  \n",
       "\n",
       "[5000 rows x 14 columns]"
      ]
     },
     "execution_count": 1,
     "metadata": {},
     "output_type": "execute_result"
    }
   ],
   "source": [
    "import pandas as pd\n",
    "import numpy as np\n",
    "import matplotlib.pyplot as plt\n",
    "import seaborn as sns\n",
    "\n",
    "df = pd.read_csv(r'C:\\Users\\LENOVO\\Desktop\\netflix_customer_churn.csv')\n",
    "df"
   ]
  },
  {
   "cell_type": "markdown",
   "id": "47c3d1ca-505e-44d6-aa42-f61b8f4cf44c",
   "metadata": {},
   "source": [
    "## Dropped a column that is not in use and created new one"
   ]
  },
  {
   "cell_type": "code",
   "execution_count": 2,
   "id": "9bd9adf6-98cd-40eb-9566-c2717a74b25b",
   "metadata": {},
   "outputs": [],
   "source": [
    "df.drop(columns=['avg_watch_time_per_day'], inplace = True)\n",
    "df['watch_hours_per_profile'] = df['watch_hours'] / df['number_of_profiles']"
   ]
  },
  {
   "cell_type": "markdown",
   "id": "c360ff56-f5f2-41b5-93f6-ac9edfc85bd3",
   "metadata": {},
   "source": [
    "## Get data information for better understanding about columns, datatypes and nulls in a column"
   ]
  },
  {
   "cell_type": "code",
   "execution_count": 3,
   "id": "701b6f78-5838-4344-8c44-3ebc90457241",
   "metadata": {},
   "outputs": [
    {
     "name": "stdout",
     "output_type": "stream",
     "text": [
      "<class 'pandas.core.frame.DataFrame'>\n",
      "RangeIndex: 5000 entries, 0 to 4999\n",
      "Data columns (total 14 columns):\n",
      " #   Column                   Non-Null Count  Dtype  \n",
      "---  ------                   --------------  -----  \n",
      " 0   customer_id              5000 non-null   object \n",
      " 1   age                      5000 non-null   int64  \n",
      " 2   gender                   5000 non-null   object \n",
      " 3   subscription_type        5000 non-null   object \n",
      " 4   watch_hours              5000 non-null   float64\n",
      " 5   last_login_days          5000 non-null   int64  \n",
      " 6   region                   5000 non-null   object \n",
      " 7   device                   5000 non-null   object \n",
      " 8   monthly_fee              5000 non-null   float64\n",
      " 9   churned                  5000 non-null   int64  \n",
      " 10  payment_method           5000 non-null   object \n",
      " 11  number_of_profiles       5000 non-null   int64  \n",
      " 12  favorite_genre           5000 non-null   object \n",
      " 13  watch_hours_per_profile  5000 non-null   float64\n",
      "dtypes: float64(3), int64(4), object(7)\n",
      "memory usage: 547.0+ KB\n"
     ]
    }
   ],
   "source": [
    "df.info()"
   ]
  },
  {
   "cell_type": "markdown",
   "id": "b1f71f1f-b999-4381-8b95-b11520ad37a3",
   "metadata": {},
   "source": [
    "## Get stats about numerical columns to understand data well"
   ]
  },
  {
   "cell_type": "code",
   "execution_count": 4,
   "id": "b907837f-ac31-4bac-91d9-352db2db99b3",
   "metadata": {},
   "outputs": [
    {
     "data": {
      "text/html": [
       "<div>\n",
       "<style scoped>\n",
       "    .dataframe tbody tr th:only-of-type {\n",
       "        vertical-align: middle;\n",
       "    }\n",
       "\n",
       "    .dataframe tbody tr th {\n",
       "        vertical-align: top;\n",
       "    }\n",
       "\n",
       "    .dataframe thead th {\n",
       "        text-align: right;\n",
       "    }\n",
       "</style>\n",
       "<table border=\"1\" class=\"dataframe\">\n",
       "  <thead>\n",
       "    <tr style=\"text-align: right;\">\n",
       "      <th></th>\n",
       "      <th>age</th>\n",
       "      <th>watch_hours</th>\n",
       "      <th>last_login_days</th>\n",
       "      <th>monthly_fee</th>\n",
       "      <th>churned</th>\n",
       "      <th>number_of_profiles</th>\n",
       "      <th>watch_hours_per_profile</th>\n",
       "    </tr>\n",
       "  </thead>\n",
       "  <tbody>\n",
       "    <tr>\n",
       "      <th>count</th>\n",
       "      <td>5000.000000</td>\n",
       "      <td>5000.000000</td>\n",
       "      <td>5000.000000</td>\n",
       "      <td>5000.000000</td>\n",
       "      <td>5000.000000</td>\n",
       "      <td>5000.000000</td>\n",
       "      <td>5000.000000</td>\n",
       "    </tr>\n",
       "    <tr>\n",
       "      <th>mean</th>\n",
       "      <td>43.847400</td>\n",
       "      <td>11.649450</td>\n",
       "      <td>30.089800</td>\n",
       "      <td>13.683400</td>\n",
       "      <td>0.503000</td>\n",
       "      <td>3.024400</td>\n",
       "      <td>5.218194</td>\n",
       "    </tr>\n",
       "    <tr>\n",
       "      <th>std</th>\n",
       "      <td>15.501128</td>\n",
       "      <td>12.014654</td>\n",
       "      <td>17.536078</td>\n",
       "      <td>3.692062</td>\n",
       "      <td>0.500041</td>\n",
       "      <td>1.415841</td>\n",
       "      <td>6.907817</td>\n",
       "    </tr>\n",
       "    <tr>\n",
       "      <th>min</th>\n",
       "      <td>18.000000</td>\n",
       "      <td>0.010000</td>\n",
       "      <td>0.000000</td>\n",
       "      <td>8.990000</td>\n",
       "      <td>0.000000</td>\n",
       "      <td>1.000000</td>\n",
       "      <td>0.002000</td>\n",
       "    </tr>\n",
       "    <tr>\n",
       "      <th>25%</th>\n",
       "      <td>30.000000</td>\n",
       "      <td>3.337500</td>\n",
       "      <td>15.000000</td>\n",
       "      <td>8.990000</td>\n",
       "      <td>0.000000</td>\n",
       "      <td>2.000000</td>\n",
       "      <td>1.126500</td>\n",
       "    </tr>\n",
       "    <tr>\n",
       "      <th>50%</th>\n",
       "      <td>44.000000</td>\n",
       "      <td>8.000000</td>\n",
       "      <td>30.000000</td>\n",
       "      <td>13.990000</td>\n",
       "      <td>1.000000</td>\n",
       "      <td>3.000000</td>\n",
       "      <td>2.960000</td>\n",
       "    </tr>\n",
       "    <tr>\n",
       "      <th>75%</th>\n",
       "      <td>58.000000</td>\n",
       "      <td>16.030000</td>\n",
       "      <td>45.000000</td>\n",
       "      <td>17.990000</td>\n",
       "      <td>1.000000</td>\n",
       "      <td>4.000000</td>\n",
       "      <td>6.583000</td>\n",
       "    </tr>\n",
       "    <tr>\n",
       "      <th>max</th>\n",
       "      <td>70.000000</td>\n",
       "      <td>110.400000</td>\n",
       "      <td>60.000000</td>\n",
       "      <td>17.990000</td>\n",
       "      <td>1.000000</td>\n",
       "      <td>5.000000</td>\n",
       "      <td>81.070000</td>\n",
       "    </tr>\n",
       "  </tbody>\n",
       "</table>\n",
       "</div>"
      ],
      "text/plain": [
       "               age  watch_hours  last_login_days  monthly_fee      churned  \\\n",
       "count  5000.000000  5000.000000      5000.000000  5000.000000  5000.000000   \n",
       "mean     43.847400    11.649450        30.089800    13.683400     0.503000   \n",
       "std      15.501128    12.014654        17.536078     3.692062     0.500041   \n",
       "min      18.000000     0.010000         0.000000     8.990000     0.000000   \n",
       "25%      30.000000     3.337500        15.000000     8.990000     0.000000   \n",
       "50%      44.000000     8.000000        30.000000    13.990000     1.000000   \n",
       "75%      58.000000    16.030000        45.000000    17.990000     1.000000   \n",
       "max      70.000000   110.400000        60.000000    17.990000     1.000000   \n",
       "\n",
       "       number_of_profiles  watch_hours_per_profile  \n",
       "count         5000.000000              5000.000000  \n",
       "mean             3.024400                 5.218194  \n",
       "std              1.415841                 6.907817  \n",
       "min              1.000000                 0.002000  \n",
       "25%              2.000000                 1.126500  \n",
       "50%              3.000000                 2.960000  \n",
       "75%              4.000000                 6.583000  \n",
       "max              5.000000                81.070000  "
      ]
     },
     "execution_count": 4,
     "metadata": {},
     "output_type": "execute_result"
    }
   ],
   "source": [
    "df.describe()"
   ]
  },
  {
   "cell_type": "markdown",
   "id": "3fc1e17a-d552-4026-92c1-dbc567105a79",
   "metadata": {},
   "source": [
    "## Drop duplicate entries to reduce redundancies"
   ]
  },
  {
   "cell_type": "code",
   "execution_count": 5,
   "id": "0444860e-cde4-4ff5-b1ec-bd5695079cac",
   "metadata": {},
   "outputs": [],
   "source": [
    "df.drop_duplicates(inplace = True)"
   ]
  },
  {
   "cell_type": "markdown",
   "id": "4ccd70a4-ea66-4de8-9282-792eaad6164e",
   "metadata": {},
   "source": [
    "## Applied lambda function to trim extra spaces from non-numeric or object type columns"
   ]
  },
  {
   "cell_type": "code",
   "execution_count": 6,
   "id": "357fbeb5-e59a-4401-a27c-abe36b7c12bc",
   "metadata": {},
   "outputs": [
    {
     "data": {
      "text/html": [
       "<div>\n",
       "<style scoped>\n",
       "    .dataframe tbody tr th:only-of-type {\n",
       "        vertical-align: middle;\n",
       "    }\n",
       "\n",
       "    .dataframe tbody tr th {\n",
       "        vertical-align: top;\n",
       "    }\n",
       "\n",
       "    .dataframe thead th {\n",
       "        text-align: right;\n",
       "    }\n",
       "</style>\n",
       "<table border=\"1\" class=\"dataframe\">\n",
       "  <thead>\n",
       "    <tr style=\"text-align: right;\">\n",
       "      <th></th>\n",
       "      <th>customer_id</th>\n",
       "      <th>age</th>\n",
       "      <th>gender</th>\n",
       "      <th>subscription_type</th>\n",
       "      <th>watch_hours</th>\n",
       "      <th>last_login_days</th>\n",
       "      <th>region</th>\n",
       "      <th>device</th>\n",
       "      <th>monthly_fee</th>\n",
       "      <th>churned</th>\n",
       "      <th>payment_method</th>\n",
       "      <th>number_of_profiles</th>\n",
       "      <th>favorite_genre</th>\n",
       "      <th>watch_hours_per_profile</th>\n",
       "    </tr>\n",
       "  </thead>\n",
       "  <tbody>\n",
       "    <tr>\n",
       "      <th>0</th>\n",
       "      <td>a9b75100-82a8-427a-a208-72f24052884a</td>\n",
       "      <td>51</td>\n",
       "      <td>Other</td>\n",
       "      <td>Basic</td>\n",
       "      <td>14.73</td>\n",
       "      <td>29</td>\n",
       "      <td>Africa</td>\n",
       "      <td>TV</td>\n",
       "      <td>8.99</td>\n",
       "      <td>1</td>\n",
       "      <td>Gift Card</td>\n",
       "      <td>1</td>\n",
       "      <td>Action</td>\n",
       "      <td>14.7300</td>\n",
       "    </tr>\n",
       "    <tr>\n",
       "      <th>1</th>\n",
       "      <td>49a5dfd9-7e69-4022-a6ad-0a1b9767fb5b</td>\n",
       "      <td>47</td>\n",
       "      <td>Other</td>\n",
       "      <td>Standard</td>\n",
       "      <td>0.70</td>\n",
       "      <td>19</td>\n",
       "      <td>Europe</td>\n",
       "      <td>Mobile</td>\n",
       "      <td>13.99</td>\n",
       "      <td>1</td>\n",
       "      <td>Gift Card</td>\n",
       "      <td>5</td>\n",
       "      <td>Sci-Fi</td>\n",
       "      <td>0.1400</td>\n",
       "    </tr>\n",
       "    <tr>\n",
       "      <th>2</th>\n",
       "      <td>4d71f6ce-fca9-4ff7-8afa-197ac24de14b</td>\n",
       "      <td>27</td>\n",
       "      <td>Female</td>\n",
       "      <td>Standard</td>\n",
       "      <td>16.32</td>\n",
       "      <td>10</td>\n",
       "      <td>Asia</td>\n",
       "      <td>TV</td>\n",
       "      <td>13.99</td>\n",
       "      <td>0</td>\n",
       "      <td>Crypto</td>\n",
       "      <td>2</td>\n",
       "      <td>Drama</td>\n",
       "      <td>8.1600</td>\n",
       "    </tr>\n",
       "    <tr>\n",
       "      <th>3</th>\n",
       "      <td>d3c72c38-631b-4f9e-8a0e-de103cad1a7d</td>\n",
       "      <td>53</td>\n",
       "      <td>Other</td>\n",
       "      <td>Premium</td>\n",
       "      <td>4.51</td>\n",
       "      <td>12</td>\n",
       "      <td>Oceania</td>\n",
       "      <td>TV</td>\n",
       "      <td>17.99</td>\n",
       "      <td>1</td>\n",
       "      <td>Crypto</td>\n",
       "      <td>2</td>\n",
       "      <td>Horror</td>\n",
       "      <td>2.2550</td>\n",
       "    </tr>\n",
       "    <tr>\n",
       "      <th>4</th>\n",
       "      <td>4e265c34-103a-4dbb-9553-76c9aa47e946</td>\n",
       "      <td>56</td>\n",
       "      <td>Other</td>\n",
       "      <td>Standard</td>\n",
       "      <td>1.89</td>\n",
       "      <td>13</td>\n",
       "      <td>Africa</td>\n",
       "      <td>Mobile</td>\n",
       "      <td>13.99</td>\n",
       "      <td>1</td>\n",
       "      <td>Crypto</td>\n",
       "      <td>2</td>\n",
       "      <td>Action</td>\n",
       "      <td>0.9450</td>\n",
       "    </tr>\n",
       "    <tr>\n",
       "      <th>...</th>\n",
       "      <td>...</td>\n",
       "      <td>...</td>\n",
       "      <td>...</td>\n",
       "      <td>...</td>\n",
       "      <td>...</td>\n",
       "      <td>...</td>\n",
       "      <td>...</td>\n",
       "      <td>...</td>\n",
       "      <td>...</td>\n",
       "      <td>...</td>\n",
       "      <td>...</td>\n",
       "      <td>...</td>\n",
       "      <td>...</td>\n",
       "      <td>...</td>\n",
       "    </tr>\n",
       "    <tr>\n",
       "      <th>4995</th>\n",
       "      <td>44f3ba44-b95d-4e50-a786-bac4d06f4a43</td>\n",
       "      <td>19</td>\n",
       "      <td>Female</td>\n",
       "      <td>Basic</td>\n",
       "      <td>49.17</td>\n",
       "      <td>11</td>\n",
       "      <td>Europe</td>\n",
       "      <td>Desktop</td>\n",
       "      <td>8.99</td>\n",
       "      <td>0</td>\n",
       "      <td>Credit Card</td>\n",
       "      <td>4</td>\n",
       "      <td>Drama</td>\n",
       "      <td>12.2925</td>\n",
       "    </tr>\n",
       "    <tr>\n",
       "      <th>4996</th>\n",
       "      <td>18779bcb-ba2b-41da-b751-e70b812061ec</td>\n",
       "      <td>67</td>\n",
       "      <td>Female</td>\n",
       "      <td>Basic</td>\n",
       "      <td>9.24</td>\n",
       "      <td>2</td>\n",
       "      <td>North America</td>\n",
       "      <td>Desktop</td>\n",
       "      <td>8.99</td>\n",
       "      <td>0</td>\n",
       "      <td>PayPal</td>\n",
       "      <td>3</td>\n",
       "      <td>Documentary</td>\n",
       "      <td>3.0800</td>\n",
       "    </tr>\n",
       "    <tr>\n",
       "      <th>4997</th>\n",
       "      <td>3f32e8c5-615b-4a3b-a864-db2688f7834f</td>\n",
       "      <td>66</td>\n",
       "      <td>Male</td>\n",
       "      <td>Standard</td>\n",
       "      <td>16.55</td>\n",
       "      <td>49</td>\n",
       "      <td>South America</td>\n",
       "      <td>Desktop</td>\n",
       "      <td>13.99</td>\n",
       "      <td>1</td>\n",
       "      <td>Debit Card</td>\n",
       "      <td>2</td>\n",
       "      <td>Action</td>\n",
       "      <td>8.2750</td>\n",
       "    </tr>\n",
       "    <tr>\n",
       "      <th>4998</th>\n",
       "      <td>7b0ad82d-6571-430e-90f4-906259e0e89c</td>\n",
       "      <td>59</td>\n",
       "      <td>Female</td>\n",
       "      <td>Basic</td>\n",
       "      <td>9.12</td>\n",
       "      <td>3</td>\n",
       "      <td>Europe</td>\n",
       "      <td>Laptop</td>\n",
       "      <td>8.99</td>\n",
       "      <td>0</td>\n",
       "      <td>Credit Card</td>\n",
       "      <td>4</td>\n",
       "      <td>Sci-Fi</td>\n",
       "      <td>2.2800</td>\n",
       "    </tr>\n",
       "    <tr>\n",
       "      <th>4999</th>\n",
       "      <td>82aeef39-ddb0-40ad-bae1-5c436e0cf042</td>\n",
       "      <td>57</td>\n",
       "      <td>Male</td>\n",
       "      <td>Basic</td>\n",
       "      <td>1.62</td>\n",
       "      <td>17</td>\n",
       "      <td>Africa</td>\n",
       "      <td>Mobile</td>\n",
       "      <td>8.99</td>\n",
       "      <td>1</td>\n",
       "      <td>Crypto</td>\n",
       "      <td>2</td>\n",
       "      <td>Action</td>\n",
       "      <td>0.8100</td>\n",
       "    </tr>\n",
       "  </tbody>\n",
       "</table>\n",
       "<p>5000 rows × 14 columns</p>\n",
       "</div>"
      ],
      "text/plain": [
       "                               customer_id  age  gender subscription_type  \\\n",
       "0     a9b75100-82a8-427a-a208-72f24052884a   51   Other             Basic   \n",
       "1     49a5dfd9-7e69-4022-a6ad-0a1b9767fb5b   47   Other          Standard   \n",
       "2     4d71f6ce-fca9-4ff7-8afa-197ac24de14b   27  Female          Standard   \n",
       "3     d3c72c38-631b-4f9e-8a0e-de103cad1a7d   53   Other           Premium   \n",
       "4     4e265c34-103a-4dbb-9553-76c9aa47e946   56   Other          Standard   \n",
       "...                                    ...  ...     ...               ...   \n",
       "4995  44f3ba44-b95d-4e50-a786-bac4d06f4a43   19  Female             Basic   \n",
       "4996  18779bcb-ba2b-41da-b751-e70b812061ec   67  Female             Basic   \n",
       "4997  3f32e8c5-615b-4a3b-a864-db2688f7834f   66    Male          Standard   \n",
       "4998  7b0ad82d-6571-430e-90f4-906259e0e89c   59  Female             Basic   \n",
       "4999  82aeef39-ddb0-40ad-bae1-5c436e0cf042   57    Male             Basic   \n",
       "\n",
       "      watch_hours  last_login_days         region   device  monthly_fee  \\\n",
       "0           14.73               29         Africa       TV         8.99   \n",
       "1            0.70               19         Europe   Mobile        13.99   \n",
       "2           16.32               10           Asia       TV        13.99   \n",
       "3            4.51               12        Oceania       TV        17.99   \n",
       "4            1.89               13         Africa   Mobile        13.99   \n",
       "...           ...              ...            ...      ...          ...   \n",
       "4995        49.17               11         Europe  Desktop         8.99   \n",
       "4996         9.24                2  North America  Desktop         8.99   \n",
       "4997        16.55               49  South America  Desktop        13.99   \n",
       "4998         9.12                3         Europe   Laptop         8.99   \n",
       "4999         1.62               17         Africa   Mobile         8.99   \n",
       "\n",
       "      churned payment_method  number_of_profiles favorite_genre  \\\n",
       "0           1      Gift Card                   1         Action   \n",
       "1           1      Gift Card                   5         Sci-Fi   \n",
       "2           0         Crypto                   2          Drama   \n",
       "3           1         Crypto                   2         Horror   \n",
       "4           1         Crypto                   2         Action   \n",
       "...       ...            ...                 ...            ...   \n",
       "4995        0    Credit Card                   4          Drama   \n",
       "4996        0         PayPal                   3    Documentary   \n",
       "4997        1     Debit Card                   2         Action   \n",
       "4998        0    Credit Card                   4         Sci-Fi   \n",
       "4999        1         Crypto                   2         Action   \n",
       "\n",
       "      watch_hours_per_profile  \n",
       "0                     14.7300  \n",
       "1                      0.1400  \n",
       "2                      8.1600  \n",
       "3                      2.2550  \n",
       "4                      0.9450  \n",
       "...                       ...  \n",
       "4995                  12.2925  \n",
       "4996                   3.0800  \n",
       "4997                   8.2750  \n",
       "4998                   2.2800  \n",
       "4999                   0.8100  \n",
       "\n",
       "[5000 rows x 14 columns]"
      ]
     },
     "execution_count": 6,
     "metadata": {},
     "output_type": "execute_result"
    }
   ],
   "source": [
    "df = df.apply(lambda x: x.str.strip() if x.dtype == \"object\" else x)\n",
    "df"
   ]
  },
  {
   "cell_type": "markdown",
   "id": "647c055b-dfba-4ad6-a232-ddfdfb461662",
   "metadata": {},
   "source": [
    "## Get unique entries count for each column"
   ]
  },
  {
   "cell_type": "code",
   "execution_count": 7,
   "id": "f1ad3d64-0886-4674-9577-6e27cd01db4e",
   "metadata": {},
   "outputs": [
    {
     "data": {
      "text/plain": [
       "customer_id                5000\n",
       "age                          53\n",
       "gender                        3\n",
       "subscription_type             3\n",
       "watch_hours                2343\n",
       "last_login_days              61\n",
       "region                        6\n",
       "device                        5\n",
       "monthly_fee                   3\n",
       "churned                       2\n",
       "payment_method                5\n",
       "number_of_profiles            5\n",
       "favorite_genre                7\n",
       "watch_hours_per_profile    3449\n",
       "dtype: int64"
      ]
     },
     "execution_count": 7,
     "metadata": {},
     "output_type": "execute_result"
    }
   ],
   "source": [
    "df.nunique()"
   ]
  },
  {
   "cell_type": "markdown",
   "id": "34eb0cc7-6a6e-4177-8ff5-b0332e3dd537",
   "metadata": {},
   "source": [
    "## Get unique data for columns to understand data well and to know if any incorrect formattings exists"
   ]
  },
  {
   "cell_type": "code",
   "execution_count": 8,
   "id": "9cb66624-b5ad-4e86-9f43-ad1ff289466a",
   "metadata": {},
   "outputs": [
    {
     "data": {
      "text/plain": [
       "array(['Basic', 'Standard', 'Premium'], dtype=object)"
      ]
     },
     "execution_count": 8,
     "metadata": {},
     "output_type": "execute_result"
    }
   ],
   "source": [
    "df['subscription_type'].unique()"
   ]
  },
  {
   "cell_type": "code",
   "execution_count": 9,
   "id": "dfa6f2ea-e68d-4199-ac80-999ee9eb2ebf",
   "metadata": {},
   "outputs": [
    {
     "data": {
      "text/plain": [
       "array(['Africa', 'Europe', 'Asia', 'Oceania', 'South America',\n",
       "       'North America'], dtype=object)"
      ]
     },
     "execution_count": 9,
     "metadata": {},
     "output_type": "execute_result"
    }
   ],
   "source": [
    "df['region'].unique()"
   ]
  },
  {
   "cell_type": "code",
   "execution_count": 10,
   "id": "ec4d88cd-a224-4d73-95a8-31260215f388",
   "metadata": {},
   "outputs": [
    {
     "data": {
      "text/plain": [
       "array(['TV', 'Mobile', 'Laptop', 'Desktop', 'Tablet'], dtype=object)"
      ]
     },
     "execution_count": 10,
     "metadata": {},
     "output_type": "execute_result"
    }
   ],
   "source": [
    "df['device'].unique()"
   ]
  },
  {
   "cell_type": "code",
   "execution_count": 11,
   "id": "eb8a1805-7fa2-4de2-ae17-2b3001eb8d15",
   "metadata": {},
   "outputs": [
    {
     "data": {
      "text/plain": [
       "array(['Gift Card', 'Crypto', 'Debit Card', 'PayPal', 'Credit Card'],\n",
       "      dtype=object)"
      ]
     },
     "execution_count": 11,
     "metadata": {},
     "output_type": "execute_result"
    }
   ],
   "source": [
    "df['payment_method'].unique()"
   ]
  },
  {
   "cell_type": "code",
   "execution_count": 12,
   "id": "66dbe256-ff63-46c6-93cb-fa6180ab5f34",
   "metadata": {},
   "outputs": [
    {
     "data": {
      "text/plain": [
       "array(['Action', 'Sci-Fi', 'Drama', 'Horror', 'Romance', 'Comedy',\n",
       "       'Documentary'], dtype=object)"
      ]
     },
     "execution_count": 12,
     "metadata": {},
     "output_type": "execute_result"
    }
   ],
   "source": [
    "df['favorite_genre'].unique()"
   ]
  },
  {
   "cell_type": "markdown",
   "id": "335adc11-5ad7-4e1d-b2bf-fd70fc294eda",
   "metadata": {},
   "source": [
    "## Made visualizations like histograms and countplots to understand customer behaviour and relationships to churn"
   ]
  },
  {
   "cell_type": "code",
   "execution_count": 13,
   "id": "0a3c0ed3-3411-4f47-8002-c26734bffbd7",
   "metadata": {},
   "outputs": [
    {
     "data": {
      "text/plain": [
       "(100.0, 400.0)"
      ]
     },
     "execution_count": 13,
     "metadata": {},
     "output_type": "execute_result"
    },
    {
     "data": {
      "image/png": "[encoded data removed]",
      "text/plain": [
       "<Figure size 640x480 with 1 Axes>"
      ]
     },
     "metadata": {},
     "output_type": "display_data"
    }
   ],
   "source": [
    "sns.histplot(x = 'age',hue = 'churned', data = df, bins = 10)\n",
    "plt.title(\"Age distribution by churn\")\n",
    "plt.ylim(100,400)"
   ]
  },
  {
   "cell_type": "code",
   "execution_count": 14,
   "id": "2695e162-e112-4843-9916-d28dc5322b5a",
   "metadata": {},
   "outputs": [
    {
     "data": {
      "text/plain": [
       "(0.0, 200.0)"
      ]
     },
     "execution_count": 14,
     "metadata": {},
     "output_type": "execute_result"
    },
    {
     "data": {
      "image/png": "[encoded data removed]",
      "text/plain": [
       "<Figure size 640x480 with 1 Axes>"
      ]
     },
     "metadata": {},
     "output_type": "display_data"
    }
   ],
   "source": [
    "sns.histplot(x = 'last_login_days',hue = 'churned', data = df, bins = 30)\n",
    "plt.title(\"last login days churn\")\n",
    "plt.ylim(0,200)"
   ]
  },
  {
   "cell_type": "code",
   "execution_count": 15,
   "id": "c5d6d84a-92d0-4dc9-bfcf-4fc9fe22b45c",
   "metadata": {},
   "outputs": [
    {
     "data": {
      "text/plain": [
       "(700.0, 900.0)"
      ]
     },
     "execution_count": 15,
     "metadata": {},
     "output_type": "execute_result"
    },
    {
     "data": {
      "image/png": "[encoded data removed]",
      "text/plain": [
       "<Figure size 640x480 with 1 Axes>"
      ]
     },
     "metadata": {},
     "output_type": "display_data"
    }
   ],
   "source": [
    "sns.countplot(x = 'gender',hue = 'churned', data = df)\n",
    "plt.title(\"gender distribution by churn\")\n",
    "plt.ylim(700,900)"
   ]
  },
  {
   "cell_type": "code",
   "execution_count": 16,
   "id": "7124532a-8b74-4354-af26-5c276f4bd7a3",
   "metadata": {},
   "outputs": [
    {
     "data": {
      "text/plain": [
       "([0, 1, 2, 3, 4, 5],\n",
       " [Text(0, 0, 'Africa'),\n",
       "  Text(1, 0, 'Europe'),\n",
       "  Text(2, 0, 'Asia'),\n",
       "  Text(3, 0, 'Oceania'),\n",
       "  Text(4, 0, 'South America'),\n",
       "  Text(5, 0, 'North America')])"
      ]
     },
     "execution_count": 16,
     "metadata": {},
     "output_type": "execute_result"
    },
    {
     "data": {
      "image/png": "[encoded data removed]",
      "text/plain": [
       "<Figure size 640x480 with 1 Axes>"
      ]
     },
     "metadata": {},
     "output_type": "display_data"
    }
   ],
   "source": [
    "sns.countplot(x = 'region',hue = 'churned', data = df)\n",
    "plt.title(\"region distribution by churn\")\n",
    "plt.ylim(0,600)\n",
    "plt.xticks(fontsize = 'x-small')"
   ]
  },
  {
   "cell_type": "code",
   "execution_count": 17,
   "id": "df142b6d-b714-45a8-9b4f-39b72be81b32",
   "metadata": {},
   "outputs": [
    {
     "data": {
      "image/png": "[encoded data removed]",
      "text/plain": [
       "<Figure size 640x480 with 1 Axes>"
      ]
     },
     "metadata": {},
     "output_type": "display_data"
    }
   ],
   "source": [
    "sns.countplot(x='subscription_type', hue='churned',data=df)\n",
    "plt.title('subscription types by churn')\n",
    "plt.show()"
   ]
  },
  {
   "cell_type": "code",
   "execution_count": 18,
   "id": "0d7274ed-850d-4b6d-b507-d6494107c625",
   "metadata": {},
   "outputs": [
    {
     "data": {
      "text/plain": [
       "(900.0, 1100.0)"
      ]
     },
     "execution_count": 18,
     "metadata": {},
     "output_type": "execute_result"
    },
    {
     "data": {
      "image/png": "[encoded data removed]",
      "text/plain": [
       "<Figure size 640x480 with 1 Axes>"
      ]
     },
     "metadata": {},
     "output_type": "display_data"
    }
   ],
   "source": [
    "sns.countplot(x = 'payment_method', data = df)\n",
    "plt.title('most used payment method')\n",
    "plt.ylim(900,1100)"
   ]
  },
  {
   "cell_type": "code",
   "execution_count": 19,
   "id": "b88a5275-a760-43ff-9f67-79c9b030d139",
   "metadata": {},
   "outputs": [
    {
     "data": {
      "text/plain": [
       "([0, 1, 2, 3, 4, 5, 6],\n",
       " [Text(0, 0, 'Action'),\n",
       "  Text(1, 0, 'Sci-Fi'),\n",
       "  Text(2, 0, 'Drama'),\n",
       "  Text(3, 0, 'Horror'),\n",
       "  Text(4, 0, 'Romance'),\n",
       "  Text(5, 0, 'Comedy'),\n",
       "  Text(6, 0, 'Documentary')])"
      ]
     },
     "execution_count": 19,
     "metadata": {},
     "output_type": "execute_result"
    },
    {
     "data": {
      "image/png": "[encoded data removed]",
      "text/plain": [
       "<Figure size 640x480 with 1 Axes>"
      ]
     },
     "metadata": {},
     "output_type": "display_data"
    }
   ],
   "source": [
    "sns.countplot(x = 'favorite_genre', data = df)\n",
    "plt.title('most favourite genre')\n",
    "plt.ylim(600,800)\n",
    "plt.xticks(fontsize = 'small')"
   ]
  },
  {
   "cell_type": "markdown",
   "id": "363e945c-30b0-452d-8882-634d29908bf0",
   "metadata": {},
   "source": [
    "## For reference, Check if count plot gives accurate values or not"
   ]
  },
  {
   "cell_type": "code",
   "execution_count": 20,
   "id": "235cb501-2b2d-4fc4-9a0a-52d637c61154",
   "metadata": {},
   "outputs": [
    {
     "data": {
      "text/plain": [
       "720"
      ]
     },
     "execution_count": 20,
     "metadata": {},
     "output_type": "execute_result"
    }
   ],
   "source": [
    "df['favorite_genre'].value_counts()['Sci-Fi']"
   ]
  }
 ],
 "metadata": {
  "kernelspec": {
   "display_name": "Python [conda env:base] *",
   "language": "python",
   "name": "conda-base-py"
  },
  "language_info": {
   "codemirror_mode": {
    "name": "ipython",
    "version": 3
   },
   "file_extension": ".py",
   "mimetype": "text/x-python",
   "name": "python",
   "nbconvert_exporter": "python",
   "pygments_lexer": "ipython3",
   "version": "3.12.7"
  }
 },
 "nbformat": 4,
 "nbformat_minor": 5
}
